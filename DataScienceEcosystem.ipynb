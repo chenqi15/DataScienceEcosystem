{
 "cells": [
  {
   "cell_type": "markdown",
   "id": "55fcaae7-1e51-4cd2-b0d0-904bb30c5c62",
   "metadata": {},
   "source": [
    "#"
   ]
  },
  {
   "cell_type": "markdown",
   "id": "e85d7565-91c3-488c-b703-438c98dc4803",
   "metadata": {},
   "source": [
    "# Data Science Tools and Ecosystem"
   ]
  },
  {
   "cell_type": "markdown",
   "id": "f2ad2bf7-7a30-47c0-baf5-c6d7668a78c8",
   "metadata": {},
   "source": [
    "In this notebook, Data Science Tools and Ecosystem are summarized."
   ]
  },
  {
   "cell_type": "markdown",
   "id": "9f8f1c4d-a3d5-4378-80cd-fdd22039645c",
   "metadata": {},
   "source": [
    "Some of the popular languages that Data Scientists use are:\n",
    "1. Python\n",
    "2. Java\n",
    "3. C++\n",
    "4. R"
   ]
  },
  {
   "cell_type": "markdown",
   "id": "4ab692fb-bd37-4259-bebd-565c2d10fd23",
   "metadata": {},
   "source": [
    "Some of the commonly used libraries used by Data Scientists include:\n",
    "1. Pandas\n",
    "2. Seaborn\n",
    "3. Scikit-learn"
   ]
  },
  {
   "cell_type": "markdown",
   "id": "6a9ba3d1-7248-467c-89da-cbc834359264",
   "metadata": {},
   "source": [
    "|Data Science Tools|\n",
    "|---|\n",
    "|‌Git|\n",
    "|VSCode|\n",
    "|PyCharm Community|\n"
   ]
  },
  {
   "cell_type": "markdown",
   "id": "68dbbf6e-a23b-4863-955f-c5ae155de874",
   "metadata": {},
   "source": [
    "**Objectives:**\n",
    "* List popular languages for Data Science\n",
    "* commonly used libraries\n",
    "* examples of evaluating arithmetic expressions"
   ]
  },
  {
   "cell_type": "markdown",
   "id": "8675dd9a-dff6-4a75-8086-3b6e9609c061",
   "metadata": {},
   "source": [
    "### Below are a few examples of evaluating arithmetic expressions in Python"
   ]
  },
  {
   "cell_type": "code",
   "execution_count": 14,
   "id": "9d48120c-d087-4612-acf4-ea4e19a68aff",
   "metadata": {},
   "outputs": [
    {
     "name": "stdout",
     "output_type": "stream",
     "text": [
      "17\n"
     ]
    }
   ],
   "source": [
    "#This a simple arithmetic expression to mutiply then add integers\n",
    "print((3*4)+5)"
   ]
  },
  {
   "cell_type": "code",
   "execution_count": 18,
   "id": "71044481-be78-42ce-9b20-fa1328767629",
   "metadata": {},
   "outputs": [
    {
     "name": "stdout",
     "output_type": "stream",
     "text": [
      "it's 3.333333 hours\n"
     ]
    }
   ],
   "source": [
    "#This will convert 200 minutes to hours by diving by 60\n",
    "h = 200 / 60\n",
    "print(\"it's %f hours\"%h)"
   ]
  },
  {
   "cell_type": "markdown",
   "id": "d734cd3a-5175-4ef2-b26a-999fd1a62e97",
   "metadata": {},
   "source": [
    "## Author\n",
    "Qi Chen"
   ]
  },
  {
   "cell_type": "code",
   "execution_count": null,
   "id": "938a55d7-c19b-42eb-9765-36329ae5a54a",
   "metadata": {},
   "outputs": [],
   "source": []
  }
 ],
 "metadata": {
  "kernelspec": {
   "display_name": "Python [conda env:base] *",
   "language": "python",
   "name": "conda-base-py"
  },
  "language_info": {
   "codemirror_mode": {
    "name": "ipython",
    "version": 3
   },
   "file_extension": ".py",
   "mimetype": "text/x-python",
   "name": "python",
   "nbconvert_exporter": "python",
   "pygments_lexer": "ipython3",
   "version": "3.11.5"
  }
 },
 "nbformat": 4,
 "nbformat_minor": 5
}
